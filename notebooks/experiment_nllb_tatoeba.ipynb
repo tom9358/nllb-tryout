{
 "cells": [
  {
   "cell_type": "code",
   "execution_count": null,
   "metadata": {},
   "outputs": [],
   "source": [
    "from nllb_try.config import config\n",
    "from nllb_try.downloadtatoeba import main_download\n",
    "from nllb_try.corpus import main_corpus\n",
    "from nllb_try.evaluate import main_evaluate\n",
    "\n",
    "\n",
    "# Step 1: Download data\n",
    "main_download(config[\"source_langs_tatoeba\"])\n",
    "\n",
    "# Step 2: Load and create parallel corpus\n",
    "corpus_objects = main_corpus(config[\"source_langs_tatoeba\"], config[\"source_langs_nllb\"])"
   ]
  },
  {
   "cell_type": "code",
   "execution_count": null,
   "metadata": {},
   "outputs": [],
   "source": [
    "from nllb_try.train import main_train\n",
    "# Step 3: Train the model\n",
    "main_train(corpus_objects)"
   ]
  },
  {
   "cell_type": "code",
   "execution_count": null,
   "metadata": {},
   "outputs": [],
   "source": [
    "from nllb_try.tryout import main_tryout\n",
    "from nllb_try.config import config\n",
    "MODEL_SAVE_PATH = config[\"MODEL_SAVE_PATH\"]\n",
    "print(MODEL_SAVE_PATH)\n",
    "\n",
    "inputs = [\n",
    "    \"ik ben benieuwd of dit werkt.\",\n",
    "    \"jij bent het zusje van mijn buurman!\",\n",
    "    \"onverwachts kwamen de ouders van Bert op bezoek.\",\n",
    "    \"de straatkat is een kat die op straat leeft.\",\n",
    "    \"hebben jullie dat gezegd?\",\n",
    "    \"de molenaar ziet jullie.\",\n",
    "    \"ik weet niet wat je bedoelt...\",\n",
    "    \"wiens linkerarm is het sterkste? die van mij.\"\n",
    "]\n",
    "\n",
    "main_tryout(MODEL_SAVE_PATH, config[\"new_lang_nllb\"], inputs)"
   ]
  },
  {
   "cell_type": "code",
   "execution_count": null,
   "metadata": {},
   "outputs": [],
   "source": [
    "import os\n",
    "\n",
    "from nllb_try.tokenizer_and_model_setup import setup_model_and_tokenizer\n",
    "\n",
    "model_versions = [\n",
    "    d for d in os.listdir(MODEL_SAVE_PATH)\n",
    "    if os.path.isdir(os.path.join(MODEL_SAVE_PATH, d))\n",
    "]\n",
    "model_versions.sort(key=lambda x: int(x))\n",
    "print(model_versions)\n",
    "latest_model = model_versions[-1]\n",
    "model_path = os.path.join(MODEL_SAVE_PATH, latest_model)\n",
    "print(f\"Loading model from {model_path}...\")\n",
    "model, tokenizer = setup_model_and_tokenizer(model_path, new_lang=config[\"new_lang_nllb\"], device='cuda')\n",
    "print(\"Model loaded successfully.\")"
   ]
  },
  {
   "cell_type": "code",
   "execution_count": null,
   "metadata": {},
   "outputs": [],
   "source": [
    "import huggingface_hub"
   ]
  },
  {
   "cell_type": "code",
   "execution_count": null,
   "metadata": {},
   "outputs": [],
   "source": [
    "huggingface_hub.login(token=\"hf_something\")"
   ]
  },
  {
   "cell_type": "code",
   "execution_count": null,
   "metadata": {},
   "outputs": [],
   "source": [
    "upload_repo = \"Tom9358/nllb-tatoeba-gos-nld-v1\""
   ]
  },
  {
   "cell_type": "code",
   "execution_count": null,
   "metadata": {},
   "outputs": [],
   "source": [
    "tokenizer.push_to_hub(upload_repo)\n",
    "model.push_to_hub(upload_repo)"
   ]
  },
  {
   "cell_type": "code",
   "execution_count": null,
   "metadata": {},
   "outputs": [],
   "source": [
    "import os\n",
    "\n",
    "def print_directory_structure(base_dir: str):\n",
    "    \"\"\"\n",
    "    Print de structuur van mappen binnen de basisdirectory, tot twee niveaus diep.\n",
    "    \"\"\"\n",
    "    try:\n",
    "        first_level = os.listdir(base_dir)\n",
    "        print(f\"Eerste niveau in '{base_dir}' bevat:\")\n",
    "        print(first_level)\n",
    "\n",
    "        for first_level_dir in first_level:\n",
    "            first_level_path = os.path.join(base_dir, first_level_dir)\n",
    "            if os.path.isdir(first_level_path):\n",
    "                second_level = os.listdir(first_level_path)\n",
    "                print(f\"\\nTweede niveau in '{first_level_dir}' bevat:\")\n",
    "                print(second_level)\n",
    "    except Exception as e:\n",
    "        print(f'Er is een fout opgetreden: {e}')\n",
    "\n",
    "if __name__ == \"__main__\":\n",
    "    base_directory = 'models'\n",
    "    print_directory_structure(base_directory)"
   ]
  }
 ],
 "metadata": {
  "kernelspec": {
   "display_name": "NLLB",
   "language": "python",
   "name": "python3"
  },
  "language_info": {
   "codemirror_mode": {
    "name": "ipython",
    "version": 3
   },
   "file_extension": ".py",
   "mimetype": "text/x-python",
   "name": "python",
   "nbconvert_exporter": "python",
   "pygments_lexer": "ipython3",
   "version": "3.11.9"
  }
 },
 "nbformat": 4,
 "nbformat_minor": 2
}
