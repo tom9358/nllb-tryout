{
 "cells": [
  {
   "cell_type": "code",
   "execution_count": null,
   "metadata": {},
   "outputs": [],
   "source": [
    "import wikipediaapi\n",
    "import random\n",
    "from rake_nltk import Rake\n",
    "r = Rake(language='Dutch', max_length=4)\n",
    "\n",
    "wiki_wiki = wikipediaapi.Wikipedia(language='nl', user_agent=\"YourAppName/1.0 (your.email@example.com)\")\n",
    "categories = list(wiki_wiki.page('Categorie:Alles').categorymembers.keys())\n",
    "\n",
    "results = []\n",
    "\n",
    "while len(results)<5:\n",
    "    category = random.choice(categories[1:])\n",
    "    category_page = wiki_wiki.page(f\"{category}\")\n",
    "    def fetch_subcategories(cat):\n",
    "        member = random.choice(list(cat.categorymembers.items()))[1]\n",
    "        if member.namespace == wikipediaapi.Namespace.CATEGORY:\n",
    "            fetch_subcategories(member)\n",
    "        elif member.namespace == wikipediaapi.Namespace.MAIN:\n",
    "            results.append(member)\n",
    "    fetch_subcategories(category_page)\n",
    "\n",
    "random.shuffle(results)\n",
    "#denk na over maat voor hoe algemeen een term is. maybe iets van aantal hits, paginalengte, aantal andere talen\n",
    "for article in results:\n",
    "    r.extract_keywords_from_text(article.text)\n",
    "    keywords = r.get_ranked_phrases()\n",
    "    print(f\"\\t{article.title}\")\n",
    "    print(f\"Some keywords: {keywords[0]}, {keywords[1]}, {keywords[2]}, {keywords[3]}, {keywords[4]}\\n\")"
   ]
  },
  {
   "cell_type": "code",
   "execution_count": 56,
   "metadata": {},
   "outputs": [],
   "source": [
    "import wikipediaapi\n",
    "import random\n",
    "wiki_wiki = wikipediaapi.Wikipedia(language='en', user_agent=\"YourAppName/1.0 (your.email@example.com)\")\n",
    "categories = list(wiki_wiki.page('Category:Contents').categorymembers.keys())\n",
    "\n",
    "def fetch_subcategories(cat):\n",
    "    member = random.choice(list(cat.categorymembers.items()))[1]\n",
    "    if member.namespace == wikipediaapi.Namespace.CATEGORY:\n",
    "        return fetch_subcategories(member)\n",
    "    elif member.namespace == wikipediaapi.Namespace.MAIN:\n",
    "        return member\n"
   ]
  },
  {
   "cell_type": "code",
   "execution_count": 57,
   "metadata": {},
   "outputs": [],
   "source": [
    "from sklearn.feature_extraction.text import CountVectorizer\n",
    "from sklearn.metrics.pairwise import cosine_similarity\n",
    "\n",
    "def find_relevant_sentences(article_text, eng_sentences, top_n=5):\n",
    "    # Combine the article keywords with the sentences\n",
    "    all_texts = [article_text] + eng_sentences['source_sentence'].tolist()\n",
    "\n",
    "    # Vectorize the text using CountVectorizer (sparse output)\n",
    "    vectorizer = CountVectorizer(dtype='float32')  # Use float32 for lighter computation\n",
    "    vectors = vectorizer.fit_transform(all_texts)\n",
    "\n",
    "    # Compute cosine similarity using sparse matrices\n",
    "    cosine_sim = cosine_similarity(vectors[0], vectors[1:])\n",
    "\n",
    "    # Get the top_n most relevant sentences\n",
    "    top_indices = cosine_sim.argsort(axis=1)[0, -top_n:][::-1]\n",
    "    top_sentences = eng_sentences.iloc[top_indices]\n",
    "\n",
    "    return top_sentences"
   ]
  },
  {
   "cell_type": "code",
   "execution_count": 62,
   "metadata": {},
   "outputs": [],
   "source": [
    "import pandas as pd\n",
    "# Load English sentences\n",
    "eng_sentences = pd.read_csv(\n",
    "    \"../tatoeba/eng_sentences.tsv\", sep=\"\\t\", header=None,\n",
    "    names=[\"id\", \"language\", \"source_sentence\"]\n",
    ")"
   ]
  },
  {
   "cell_type": "code",
   "execution_count": 70,
   "metadata": {},
   "outputs": [],
   "source": [
    "# Filter sentences\n",
    "eng_sentences = eng_sentences[eng_sentences['source_sentence'].str.split().str.len() < 7]"
   ]
  },
  {
   "cell_type": "code",
   "execution_count": 71,
   "metadata": {},
   "outputs": [
    {
     "name": "stdout",
     "output_type": "stream",
     "text": [
      "Community is an American television sitcom created by Dan Harmon. The show ran for six seasons and 110 episodes, with its first five seasons airing on NBC from September 17, 2009, to April 17, 2014, and the final season airing on Yahoo! Screen from March 17 to June 2, 2015. Set at Greendale Community College, the series stars an ensemble cast playing members of a diverse study group. The main cast includes Joel McHale as Jeff Winger, Gillian Jacobs as Britta Perry, Danny Pudi as Abed Nadir, Yvette Nicole Brown as Shirley Bennett, Alison Brie as Annie Edison, Donald Glover as Troy Barnes, Ken Jeong as Ben Chang, Chevy Chase as Pierce Hawthorne, and Jim Rash as Dean Craig Pelton. A comedy about friendships and relationships, the show uses frequent pop culture references and meta-humor, as well as high-concept episodes including documentary spoofs, action movie homages and storylines inspired by movies.\n",
      "Despite being critically acclaimed and gaining a cult following, the show faced production issues and repeatedly came close to cancellation. The third season was subject to a mid-season replacement, its second half airing months later than originally planned. Harmon was fired as showrunner for the fourth season, though he was rehired by the fifth season. The end of the fourth season and middle of the fifth season saw the departures of Chase and Glover, respectively. The show was cancelled by NBC and moved to Yahoo! Screen for its sixth and final season, which also saw the departure of Brown. Community was effectively cancelled when Yahoo! Screen shut down in 2016.\n",
      "Over the course of its run, the series was nominated for many awards, including four Primetime Emmy Awards (winning one), ten Critics' Choice Television Awards (winning one), and six Satellite Awards (winning one). Among the main cast, McHale and Pudi were the most nominated individuals with seven nominations each; McHale won two awards and Pudi won one. Several episodes, including \"Introduction to Statistics\", \"Modern Warfare\", \"Abed's Uncontrollable Christmas\", and \"Remedial Chaos Theory\", received individual nominations for awards. Some commentators have considered the show's relative lack of awards recognition at the Emmys to be a snub.\n",
      "\n",
      "Awards and nominations\n",
      "Notes\n",
      "References\n",
      "External links\n",
      "Awards for Community at IMDb\n"
     ]
    },
    {
     "data": {
      "text/html": [
       "<div>\n",
       "<style scoped>\n",
       "    .dataframe tbody tr th:only-of-type {\n",
       "        vertical-align: middle;\n",
       "    }\n",
       "\n",
       "    .dataframe tbody tr th {\n",
       "        vertical-align: top;\n",
       "    }\n",
       "\n",
       "    .dataframe thead th {\n",
       "        text-align: right;\n",
       "    }\n",
       "</style>\n",
       "<table border=\"1\" class=\"dataframe\">\n",
       "  <thead>\n",
       "    <tr style=\"text-align: right;\">\n",
       "      <th></th>\n",
       "      <th>id</th>\n",
       "      <th>language</th>\n",
       "      <th>source_sentence</th>\n",
       "    </tr>\n",
       "  </thead>\n",
       "  <tbody>\n",
       "    <tr>\n",
       "      <th>1349875</th>\n",
       "      <td>9011310</td>\n",
       "      <td>eng</td>\n",
       "      <td>The spindle and the distaff.</td>\n",
       "    </tr>\n",
       "    <tr>\n",
       "      <th>1799056</th>\n",
       "      <td>11917642</td>\n",
       "      <td>eng</td>\n",
       "      <td>And the details?</td>\n",
       "    </tr>\n",
       "    <tr>\n",
       "      <th>145239</th>\n",
       "      <td>434282</td>\n",
       "      <td>eng</td>\n",
       "      <td>At the doctor's and the dentist's.</td>\n",
       "    </tr>\n",
       "    <tr>\n",
       "      <th>145210</th>\n",
       "      <td>434216</td>\n",
       "      <td>eng</td>\n",
       "      <td>And the yellow one?</td>\n",
       "    </tr>\n",
       "    <tr>\n",
       "      <th>374578</th>\n",
       "      <td>2838114</td>\n",
       "      <td>eng</td>\n",
       "      <td>Remove the screw and the lampshade.</td>\n",
       "    </tr>\n",
       "  </tbody>\n",
       "</table>\n",
       "</div>"
      ],
      "text/plain": [
       "               id language                      source_sentence\n",
       "1349875   9011310      eng         The spindle and the distaff.\n",
       "1799056  11917642      eng                     And the details?\n",
       "145239     434282      eng   At the doctor's and the dentist's.\n",
       "145210     434216      eng                  And the yellow one?\n",
       "374578    2838114      eng  Remove the screw and the lampshade."
      ]
     },
     "metadata": {},
     "output_type": "display_data"
    }
   ],
   "source": [
    "result = None\n",
    "while result is None:\n",
    "    result = fetch_subcategories(category_page)\n",
    "\n",
    "text = result.text\n",
    "\n",
    "top_sents = find_relevant_sentences(text, eng_sentences)\n",
    "print(text)\n",
    "display(top_sents)"
   ]
  },
  {
   "cell_type": "code",
   "execution_count": 55,
   "metadata": {},
   "outputs": [
    {
     "data": {
      "text/plain": [
       "'The Kenora Thistles, officially the Thistles Hockey Club, were a Canadian ice hockey team based in Kenora, Ontario. Founded in 1894, they were originally known as the Rat Portage Thistles. The team competed for the Stanley Cup, the ice hockey championship of Canada, five times between 1903 and 1907. The Thistles won the Cup in January 1907 and defended it once before losing it that March in a challenge series. Composed almost entirely of local players, the team comes from the least populated city to have won the Stanley Cup. Nine players—four of them homegrown—have been inducted into the Hockey Hall of Fame, and the Stanley Cup champion team was inducted into the Northwestern Ontario Sports Hall of Fame.\\nThough Kenora is in Ontario, the Thistles competed in Manitoba-based leagues throughout their existence, owing to the city\\'s proximity to that province. The team joined the Manitoba Hockey Association (MHA) in 1902, winning the league championship in three of their six seasons. They were idealized \"as a team of hometown boys who used to play shinny together on the streets of Rat Portage\". The Thistles were unable to cope with the advent of professionalism in ice hockey during the early 1900s. This combined with an economic downturn in 1907, and being unable to sustain their success, the team disbanded in 1908. The name \"Thistles\" has been used since for several senior, minor, and junior Kenora teams.\\n\\nEarly years (1894–1902)\\nTown development\\nIn 1836 the Hudson\\'s Bay Company established a factory (trading post) north of the current city of Kenora. They named it Rat Portage, a translation of the Ojibwe-language name for the region: Waszush Onigum, which literally means \"the road to the country of the muskrat\". Around 1850 gold was discovered in the region, and the Canadian Pacific Railway reached it in 1877. A sawmill was established in 1880. The town was incorporated in 1882, originally within the province of Manitoba. Located near the Manitoba–Ontario provincial border, the region was contested by both provinces until the Judicial Committee of the Privy Council ruled in favour of Ontario in 1884. Its closer proximity to Winnipeg, 210 kilometres (130 mi) away, and the rest of Manitoba, meant Rat Portage had closer ties with the west than with the rest of Ontario, where the closest city was Port Arthur (now Thunder Bay), 500 kilometres (310 mi) away.\\nWith the railroad connecting Rat Portage to Central and Eastern Canada, the town grew quickly, going from only a few people before the railway link, to 5,202 in 1901 and 6,257 by 1908. The town grew to support several industries, mainly lumber, mining, and fishing but also milling, power development and tourism. An ice rink called the Princess Rink was built in 1886. It was replaced in 1897 by the Victoria Rink which had more seats (1,000) and a larger ice surface. The town\\'s name was changed on May 11, 1905, to Kenora, which was derived from the first letters of the three neighbouring municipalities: Keewatin, Norman, and Rat Portage. The change occurred due to the establishment of a new flour mill in town; sports historian John Wong has suggested that local businessmen felt the name Rat Portage would not encourage sales of flour.\\n\\nFormation of the Thistles\\nThe first recorded ice hockey game played in Rat Portage was on February 17, 1893, organized by the Hardisty brothers, who had recently moved from Winnipeg to take part in a minor gold rush in the region. A club was formed in 1894, with a contest held to name it; the winning entry, \"Thistles\", was chosen by Bill Dunsmore, a carpenter with Scottish heritage. George Dewey, one of the wealthiest people in the town, donated the initial funds for the team. In recognition he was named the club\\'s honorary president. Most of the players were from wealthy families or independently wealthy. They had the means both to take time off work and to cover the considerable expenses associated with ice hockey.\\nThe club had no owner or financial backer and, apart from Dewey\\'s initial donation, local businesses never supported it financially. It was a community effort, with officers elected to make decisions for the club. As a result, the club was strained financially and would be throughout their existence. In March 1894 they successfully hosted a benefit concert to raise funds. Though a similar attempt the following year did not bring in as much money, concerts were held yearly until 1903.\\nInitially, the games were played within the club, but the players quickly grew tired of this. In 1894 the team was admitted to the Manitoba and Northwest Hockey Association, and entered the second-tier intermediate level. Though based in Ontario, the Thistles joined the Manitoba league because they were geographically closer to its teams. In their first season they won twelve games, showing they could easily compete at that level.\\nIn January 1896 a game was held in Kenora between the senior team and a junior-aged team, with players aged 12–16. The junior players, many of whom were related to players on the senior team, felt they could compete with the older team, and subsequently won, easily defeating their opponents. In a 1953 newspaper article on the match Lowry Johnston, who was on the senior team, explained, \"They were just too fast for us.\" A legend developed that the senior team quit hockey after that match, letting the junior players take their place in the Manitoba league. While this may not have happened as quickly as suggested, many of the players from the junior team soon joined the senior team and would hold major roles on the Thistles.\\nBolstered by the younger players, the Thistles finished second in the Manitoba intermediate league in 1899–1900 with a record of four wins and four losses. They finished tied for first in the league in 1900–01; after winning a one-game tiebreaker they were declared champions, finishing with a record of nine wins and two losses. During the season they outscored their opponents 67 to 32, and their two losses had been by one goal each. When the team started the 1901–02 season with a lopsided 12–0 victory, the club\\'s executives became concerned. They felt if the games were not competitive people would not come to watch them, resulting in less revenue. Believing the team was strong enough to move up, they applied to join the senior Manitoba Hockey Association, which had two teams that season, both in Winnipeg: the Victorias and the Winnipeg Rowing Club. To prove they could compete, the Thistles played an exhibition match against the Victorias, one of the best teams in Canada, and a previous winner of the Stanley Cup, the championship trophy of ice hockey in Canada. The Thistles fared well in the match, but the two Winnipeg teams decided against allowing them to join the league, arguing the Thistles applied too late in the season. Returning to the intermediate league, the Thistles, weakened by injuries to several players, finished in a tie for second overall. After the season ended Tommy Phillips, one of the best players on the Thistles, moved to Montreal to attend McGill University.\\n\\nAdmission to the Manitoba Hockey Association\\nLeague play, 1902–1905\\nBefore the 1902–03 season the Thistles were admitted to the senior league, along with Brandon Wheat City and the Portage la Prairie Plains. The two Winnipeg teams, still concerned about the distance to Rat Portage, opposed their inclusion (and that of Portage la Prairie), stating they would play only against Brandon, the winner of the intermediate championship in 1902. Thus, the two Winnipeg clubs left the league before the start of the season and formed their own two-team league, the Western Canada Hockey League. Playing in the new three-team senior league, the Thistles won the championship and were allowed to issue a challenge for the Stanley Cup, held at the time by the Ottawa Hockey Club (also known as the Senators).\\nFor the 1903–04 season the Thistles competed again in the three-team Manitoba league. Prior to the season, the team was invited to join the Western Canada Hockey League, which still had only the two Winnipeg clubs. While they had downplayed the Thistles\\' importance before, the Winnipeg clubs were impressed by their play during the Stanley Cup challenge and considered it financially viable to add the team. The Thistles declined the offer and remained in the Manitoba league. Kenora finished second in the league with eight wins and four losses. Brandon won the league championship, and earned the chance to compete for the Cup against Ottawa, who won the series and retained it.\\nBefore the 1904–05 season the two Manitoba leagues merged to become the Manitoba Hockey Association. The Thistles were bolstered by the presence of Tommy Phillips (who had returned to visit his dying father) and goaltender Eddie Giroux, the only player not from Rat Portage. Giroux moved from Toronto with the promise of a job in the lumber industry and for a chance to play ice hockey. The Thistles easily won the league championship, finishing with a record of seven wins and one loss, and again challenged Ottawa for the Stanley Cup.\\n\\n1903 Stanley Cup challenge\\nDonated in 1892 by Lord Stanley of Preston, the Governor General of Canada, the Stanley Cup was originally awarded to the top amateur team in Canada, who would then accept challenges from the winners of other leagues. From its inception until 1912, the Cup was nearly always won by teams from Montreal, Winnipeg, and Ottawa. In 1903 Ottawa won the Cup, after finishing the season tied for first in the Canadian Amateur Hockey League with the Montreal Victorias. They played a two-game, total-goal series for the league championship. The Montreal Hockey Club, who had held the Cup, finished third in the league and therefore lost the right to keep it.\\nThe Thistles travelled to Ottawa for a two-game series to be decided on total goals scored. Relatively unknown outside Manitoba and Western Ontario, there was little press coverage of the team before the start of the series. Attendance at the games was rather low as the series coincided with an opening session of the Canadian Parliament, which was a social affair at the time. While the matches between Ottawa and Montreal, held just days earlier, attracted around 3,000 spectators, the Thistles\\' games saw 1,500 and then 1,000 viewers. Ottawa won the first game 6–2, media summaries suggesting the Thistles were nervous and unprepared for Ottawa\\'s skilled play. Ottawa won the second match 4–2 and retained the Cup. Though the press credited the Thistles for being vastly improved, they felt that overall the team lacked \"the finer points of the game\".\\nThe Thistles had a mixed reaction to their first Stanley Cup challenge. Small crowds made it a financial failure; the team lost about C$800, a considerable sum at the time. It was still seen as an important step for the team, as it showed they could compete with the best teams in Canada. Team captain Tom Hooper said that while they \"were comparatively inexperienced, and ... consequently a little nervous\", they were \"not in the least discouraged\" and planned to \"be better qualified to play them when [they] come after the puck next year\".\\n\\n1905 Stanley Cup challenge\\nThe Cup challenge was again played in Ottawa, this time in a best-of-three series. Media reports about the Thistles were more positive than those of 1903, the team being regarded as a strong chance for the Cup. Attendance for the series was considerable;  the games attracted between 3,500 and 4,000 spectators, and hundreds more waiting outside for entry. There were also thousands across Canada who eagerly waited in newspaper offices and other venues for live telegraph reports on the games. Newspaper reports made a point of mentioning the home-grown nature of the team as some of them had begun to use professionals.\\nThe Thistles won the first match 9–3, using a new style of play. With forward passing forbidden in ice hockey, conventional strategy was for teams to shoot the puck into the opposing end and skate after it (thereby losing possession of the puck). Instead, as they moved forward, the Thistles emphasised skating and passing the puck back and forth keeping control of it. This strategy was aided by their point and cover-point men (early names for defencemen) who lined up on the ice side-by-side rather than one in front of the other as was common. Ottawa\\'s star Frank McGee had missed the first game. He returned for the succeeding games, helping Ottawa to win the remaining games, 4–2 and 5–4, and retain the Cup. Though the Thistles lost the challenge, they were praised, newspapers noting the players\\' speed in particular. The Montreal Star claimed the Thistles were not only the fastest team from the west to challenge for the Cup, but the fastest \"ever ... seen anywhere on ice\". Before heading home after the series, the team played exhibition matches in Montreal and Toronto attracting thousands of spectators.\\n\\nStanley Cup champions\\nLeague play, 1905–1907\\nThe 1905–06 season saw Kenora (as the town had been renamed) finished tied for first the Winnipeg Hockey Club with a record of seven wins and one loss, and winning the league championship after a one-game tie-breaker. This allowed Kenora to issue another challenge for the Cup, scheduled for January 1907. Due to fears that teams were covertly paying their players, the Winnipeg Rowing Club, which had been expected to play in the MHA, withdrew. As ardent followers of amateurism (Canadian sporting rules made anyone who played against a professional a professional as well) the club could not take part and had been replaced by the Winnipeg Hockey Club. The other league teams denied paying players, the Thistles calling the accusations \"ridiculous\". Despite these denials, it is quite likely there were paid players in the league. Sports historian R.S. Lappage has noted that by this point \"it was generally recognized that most eastern teams were paying their players, and it would be reasonable to expect that teams of the M.H.L. ... had to pay their star players to retain their services\". As early as 1903 financial offers had been made to players from the International Hockey League based in Michigan—the first openly professional ice hockey league in the world.\\nBefore the start of the 1906–07 season the issue of professionalism came up again for the Manitoba league. While most of the league\\'s teams felt it should turn professional, the two Winnipeg teams (the Victorias and Winnipeg Hockey Club) were against this move and left the league. Though the league was now openly professional, the Thistles continued to remain a homegrown team, despite rumours before the season there would be a major overhaul of the roster.\\nTo accommodate the Thistles\\' challenge against the Wanderers in January, which saw the team gone for nearly a month, modifications to the regular season schedule had to be made. As the Thistles were a popular team and likely to draw large crowds, the other teams wanted a double round-robin format—two home games, two away games against each team. The Thistles were against this, and wanted to play only one home and one away game against the others, as they would be gone for nearly a month for their Cup challenge. Ultimately a compromise was reached. The Thistles would play one home and away game, while the other three teams would play two home and two away. Since this would lead to an unbalanced schedule (the Thistles would have played six games while the other teams had played ten), scores in the games not including the Thistles would be combined for the purposes of the league standings, so all teams would be credited with six games played.\\n\\nJanuary 1907 Stanley Cup challenge\\nAs the 1906 champions of the Manitoba league, Kenora earned the right to challenge for the Stanley Cup, which was held by the Montreal Wanderers, but the season ended too late for the series to be held that year. It was postponed until January 1907, during the league\\'s regular season play.\\nThe Thistles left for Montreal and the Cup challenge on January 12, 1907. Taking advantage of the new professionalism of their league, the club hired Art Ross, and Joe Hall from Brandon, considered two of the best players in the Manitoba league. It is unclear how much they were paid for the series, but ice hockey historian Eric Zweig has speculated the amount was substantial (though Hall did not play any games for the Thistles). This marked the first time the Thistles had paid players on the team and confirmed their status as a professional club. The Wanderers, by contrast, had five professional players and four amateurs on their roster. The Eastern Canada Amateur Hockey Association (ECAHA), the Wanderers\\' league, allowed professionals beginning in the 1906–07 season as long as each players\\' status was defined by the team.\\nThough the Thistles hired two professional players, the media again emphasized the team consisted mainly of local amateurs, and noted the Wanderers had hired multiple professional players, most notably Hod Stuart, who had played previously for the Pittsburgh Professionals. Even so, the consensus was that the Thistles were the favourites to win the Cup. The first game of the two-game, total-goal series was held on January 17 in Montreal. Tommy Phillips scored all four Kenora goals in a 4–2 victory. The second game, on January 21, saw him record a further three goals, as Kenora won 8–6, giving them a 12–8 series win and the Stanley Cup. Following tradition, the Thistles had their name engraved on the Cup. Unlike previous winners who wrote on the side of the bowl, the Thistles had \"Thistles of Kenora 12 Wanderers 8 / Montreal Jan 17th & 21st 1907\" engraved inside it.\\nOn their return to Kenora later in January, the Thistles were warmly received; a reception at the Opera House saw each player given a commemorative cup by the city, among other gifts. The team\\'s dire financial situation meant that an admission was charged for the celebratory banquet, unusual for similar events at the time. There were signs of improved finances, though. The owners of the Victoria Rink where the team played, stated their intention to build a 4,000 to 5,000-seat replacement rink. This would have made it the largest rink west of Ontario and dwarf the 1,000-seat Victoria Rink. This was suggested as a solution to the team\\'s financial issues since they would earn a portion of each ticket sold.\\n\\nMarch 1907 Stanley Cup challenge\\nAlmost immediately after the Thistles won the Stanley Cup the Wanderers, who had won the ECAHA championship, issued a challenge for a re-match; William Foran, one of the Cup\\'s trustees, told the Thistles they first had to win the Manitoba league title. Brandon and the Thistles finished in a tie for first, so a two-game total-goal series was played to decide the league championship; Kenora won both games, 8–6 and 4–1. Though this series determined who would play the Wanderers for the Cup, it was not initially regarded as a challenge series and only later confirmed as such by Cup trustees.\\nThe Thistles signed three new players, as the league season and Cup challenge had seen regular players—Hooper, Billy McGimsie, and Phillips—sidelined by injuries. Fred Whitcroft, who had played in Peterborough, Ontario, was signed for the rest of the season for a reported $700. To further bolster the team for the Cup challenge, the Thistles signed Alf Smith and Harry \"Rat\" Westwick, both from the Ottawa Hockey Club; each player made their debut in the league\\'s final season game and played in the series against Brandon. Smith and Westwick\\'s signings drew protests from the Wanderers. They argued that since they spent the entire season with Ottawa in the ECAHA they should not be eligible to play for Kenora, as players had to play the full season with their team. The Thistles countered by arguing that the Wanderers brought in Hod Stuart and Riley Hern back in January. Foran defended the choice to allow Stuart, noting there had been no protest in January, and said that since Stuart and Hern spent the season with the Wanderers they were eligible.\\nA further issue arose when Foran told the Thistles that owing to the larger arena in Winnipeg, providing greater revenue from ticket sales, the series would be played in Winnipeg, not Kenora. It would begin the day after the Thistles finished their series with Brandon and would be a best-of three-game series. The Thistles were irate. They wanted to host the series, have a three-day break before it, and play a two-game, total-goal series. They discussed the matter with the Wanderers, and both agreed instead to a two-game series in Winnipeg, and that Kenora could use both Smith and Westwick. Foran consented to this arrangement.\\nWith the details of the series settled, the first game was held on March 23, which the Wanderers won 7–2. The Thistles won the second match, on March 25, 6–5, but lost the series 12–8. Reports on the Thistles in the media noted how reliant the team was on their three imported players and that they could no longer be portrayed as a homegrown team. The Thistles\\' time as Stanley Cup champions ended after two months.\\n\\nDemise of the Thistles\\nAfter losing the Stanley Cup, there were major changes to the Thistles\\' composition. Roxy Beaudro, Eddie Geroux, and Billy McGimsie retired before the 1907–08 season, while Tommy Phillips joined the Ottawa Hockey Club after being offered $1,500 for the season. The team brought up four junior players, all under twenty years old, and were not expected to be as competitive as earlier versions of the team. This was apparent after the first game of the season, which the Thistles lost 16–1. The club forfeited the next two games before withdrawing from the league completely, arguing they could no longer compete at that level. They attempted to join the New Ontario Hockey League, which had teams in Port Arthur and Fort William, but were refused. Instead, the Thistles played exhibition games for the rest of the season before folding.\\nThe Thistles were unable to compete with the rising professionalism that was developing in ice hockey. Located in a small town, they were unable to build a large enough rink, let alone attract the crowds to fill it and raise revenue. The promise of a larger arena, suggested in the wake of the club\\'s Stanley Cup championship, would have been impossible to realize since it would have required the entire town to attend games to sell it out. Compounding the issue was a major economic downturn in the region starting as early as 1905, mining in particular seeing a major collapse. This coincided with the establishment of professional ice hockey leagues across Canada. Along with the Manitoba league, the ECAHA turned fully professional in 1907. The Ontario Professional Hockey League was established the same year and, in 1911, the Pacific Coast Hockey League began in British Columbia. These developments meant the Thistles had to compete with a multitude of teams for players who were being offered higher salaries. As a result, sports historian John Wong has suggested it was unlikely that the Thistles could compete for top-rated players with clubs in larger cities and remain secure financially.\\n\\nLegacy\\nKenora remains the smallest town to win the Stanley Cup, and a major North American professional championship. The Thistles\\' 65 days as Stanley Cup champions is also the shortest length of time a team has possessed the Cup. Four homegrown Thistles—Si Griffis, Tom Hooper, Billy McGimsie, and Tommy Phillips—were later inducted into the Hockey Hall of Fame. The five players signed for their 1907 Cup challenges—Art Ross and Joe Hall from January; Alf Smith, Harry Westwick, and Fred Whitcroft—would also be inducted. The January 1907 Stanley Cup champion team were themselves elected to the Northwestern Ontario Sports Hall of Fame in 1982.\\nLappage has noted that during their existence, the Thistles were romanticized in the press \"as a team of hometown boys who used to play shinny together on the streets of Rat Portage\". That players from the town were responsible for most of the team\\'s success was respected. Further, the players remained active in the community outside hockey. Most took up local jobs, while in the summer several played other sports, particularly rowing—Griffis competed at the 1905 Royal Canadian Henley Regatta—and baseball. The team also helped promote Kenora to a wider audience: as a booming town at the turn of the century, town officials were excited by the publicity the Thistles\\' success brought. Sports historian Stacey L. Lorenz has noted that \"Although Kenora\\'s experience of professional hockey was brief, the Thistles\\' early twentieth-century Stanley Cup challenges [illustrated] some of the key issues surrounding community identity, town promotion, and the amateur-professional controversy in [that] period.\"\\nSince the original team\\'s demise in late 1907, the nickname \"Thistles\" has been used for many ice hockey clubs in Kenora, including the town\\'s amateur, junior, and senior-level men\\'s teams. A plaque was unveiled by the city on August 24, 1960 commemorating the Cup win; two of the three living people from that team (McGimsie and trainer James Link) were in attendance, while Ross was unable to join.\\n\\nStanley Cup challenge series results\\nMarch 1903 vs Ottawa Hockey Club\\nMarch 1905 vs Ottawa Hockey Club\\nJanuary 1907 vs Montreal Wanderers\\nMarch 1907 vs Brandon Wheat City\\nMarch 1907 vs Montreal Wanderers\\nReferences\\nNotes\\nCitations\\nSources\\nExternal links\\nOntario historical plaque – The Kenora Thistles 1907\\nHockey Hall of Fame Profile of January 1907 Kenora Thistles'"
      ]
     },
     "execution_count": 55,
     "metadata": {},
     "output_type": "execute_result"
    }
   ],
   "source": []
  }
 ],
 "metadata": {
  "kernelspec": {
   "display_name": "NLLB",
   "language": "python",
   "name": "python3"
  },
  "language_info": {
   "codemirror_mode": {
    "name": "ipython",
    "version": 3
   },
   "file_extension": ".py",
   "mimetype": "text/x-python",
   "name": "python",
   "nbconvert_exporter": "python",
   "pygments_lexer": "ipython3",
   "version": "3.11.9"
  }
 },
 "nbformat": 4,
 "nbformat_minor": 2
}
